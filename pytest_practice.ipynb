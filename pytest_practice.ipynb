{
 "cells": [
  {
   "cell_type": "markdown",
   "metadata": {},
   "source": [
    "# Unit Testing"
   ]
  },
  {
   "cell_type": "code",
   "execution_count": 8,
   "metadata": {
    "scrolled": true
   },
   "outputs": [
    {
     "name": "stdout",
     "output_type": "stream",
     "text": [
      "Collecting pytest\n",
      "  Downloading pytest-7.4.4-py3-none-any.whl (325 kB)\n",
      "\u001b[K     |████████████████████████████████| 325 kB 35.4 MB/s eta 0:00:01\n",
      "\u001b[?25hCollecting iniconfig\n",
      "  Downloading iniconfig-2.0.0-py3-none-any.whl (5.9 kB)\n",
      "Collecting exceptiongroup>=1.0.0rc8\n",
      "  Downloading exceptiongroup-1.2.2-py3-none-any.whl (16 kB)\n",
      "Requirement already satisfied: importlib-metadata>=0.12 in /opt/conda/lib/python3.7/site-packages (from pytest) (1.6.0)\n",
      "Requirement already satisfied: packaging in /opt/conda/lib/python3.7/site-packages (from pytest) (20.1)\n",
      "Collecting tomli>=1.0.0\n",
      "  Downloading tomli-2.0.1-py3-none-any.whl (12 kB)\n",
      "Collecting pluggy<2.0,>=0.12\n",
      "  Downloading pluggy-1.2.0-py3-none-any.whl (17 kB)\n",
      "Requirement already satisfied: zipp>=0.5 in /opt/conda/lib/python3.7/site-packages (from importlib-metadata>=0.12->pytest) (3.1.0)\n",
      "Requirement already satisfied: pyparsing>=2.0.2 in /opt/conda/lib/python3.7/site-packages (from packaging->pytest) (2.4.7)\n",
      "Requirement already satisfied: six in /opt/conda/lib/python3.7/site-packages (from packaging->pytest) (1.14.0)\n",
      "Installing collected packages: tomli, pluggy, iniconfig, exceptiongroup, pytest\n",
      "Successfully installed exceptiongroup-1.2.2 iniconfig-2.0.0 pluggy-1.2.0 pytest-7.4.4 tomli-2.0.1\n",
      "\u001b[33mWARNING: You are using pip version 21.0.1; however, version 24.0 is available.\n",
      "You should consider upgrading via the '/opt/conda/bin/python3 -m pip install --upgrade pip' command.\u001b[0m\n"
     ]
    }
   ],
   "source": [
    "!pip install pytest"
   ]
  },
  {
   "cell_type": "code",
   "execution_count": null,
   "metadata": {},
   "outputs": [],
   "source": [
    "import pytest\n",
    "import random\n",
    "import string\n",
    "import datetime"
   ]
  },
  {
   "cell_type": "markdown",
   "metadata": {},
   "source": [
    "##  Running test functions using Python assert statements"
   ]
  },
  {
   "cell_type": "code",
   "execution_count": 1,
   "metadata": {},
   "outputs": [],
   "source": [
    "def increment(x):\n",
    "    return x + 1\n",
    "\n",
    "def test_increment():\n",
    "    assert increment(3) == 4\n",
    "    assert increment(5) == 6, \"Increment failed\"\n",
    "    \n",
    "    #Catch failures with try/except\n",
    "    try:\n",
    "        assert increment(-2) == -1 \n",
    "    except AssertionError:\n",
    "        print(\"Incrementing negative number failed\")\n",
    "        "
   ]
  },
  {
   "cell_type": "code",
   "execution_count": 2,
   "metadata": {},
   "outputs": [],
   "source": [
    "test_increment()"
   ]
  },
  {
   "cell_type": "code",
   "execution_count": 5,
   "metadata": {},
   "outputs": [],
   "source": [
    "def square(x):\n",
    "    return x * x\n",
    "\n",
    "def test_square():\n",
    "    assert square(3) == 9\n",
    "    assert square(5) == 25, \"Square calculation failed\"\n",
    "\n",
    "    # Catch failures with try/except\n",
    "    try:\n",
    "        assert square(-4) == 16\n",
    "    except AssertionError:\n",
    "        print(\"Squaring a negative number failed\")\n",
    "\n",
    "def is_even(n):\n",
    "    return n % 2 == 0\n",
    "\n",
    "def test_is_even():\n",
    "    assert is_even(4) == True\n",
    "    assert is_even(7) == False, \"Even number check failed\"\n",
    "\n",
    "    # Catch failures with try/except\n",
    "    try:\n",
    "        assert is_even(0) == True\n",
    "    except AssertionError:\n",
    "        print(\"Zero check failed\")"
   ]
  },
  {
   "cell_type": "code",
   "execution_count": 6,
   "metadata": {},
   "outputs": [],
   "source": [
    "test_square()\n",
    "test_is_even()"
   ]
  },
  {
   "cell_type": "markdown",
   "metadata": {},
   "source": [
    "## Parameterize tests to validate multiple inputs"
   ]
  },
  {
   "cell_type": "code",
   "execution_count": 9,
   "metadata": {},
   "outputs": [],
   "source": [
    "def square(x):\n",
    "    return x * x\n",
    "\n",
    "@pytest.mark.parametrize(\"input_value, expected_output\", [\n",
    "    (2, 4), \n",
    "    (-3, 9), \n",
    "    (0, 0), \n",
    "    (5, 25)\n",
    "])\n",
    "def test_square(input_value, expected_output):\n",
    "    assert square(input_value) == expected_output"
   ]
  },
  {
   "cell_type": "markdown",
   "metadata": {},
   "source": [
    "## Chain multiple asserts to check different results"
   ]
  },
  {
   "cell_type": "code",
   "execution_count": 10,
   "metadata": {},
   "outputs": [],
   "source": [
    "\n",
    "def calculate_discount(price, discount):\n",
    "    return price - (price * discount / 100)\n",
    "\n",
    "def test_calculate_discount():\n",
    "    assert calculate_discount(100, 10) == 90  # 10% discount\n",
    "    assert calculate_discount(200, 20) == 160  # 20% discount\n",
    "    assert calculate_discount(50, 0) == 50  # No discount\n",
    "    assert calculate_discount(100, 100) == 0  # Full discount\n",
    "\n",
    "test_calculate_discount()"
   ]
  },
  {
   "cell_type": "markdown",
   "metadata": {},
   "source": [
    "## Write a custom assert method to validate against thresholds"
   ]
  },
  {
   "cell_type": "code",
   "execution_count": 13,
   "metadata": {},
   "outputs": [],
   "source": [
    "def assert_within_threshold(actual, expected, threshold, message=\"Value out of range\"):\n",
    "    \"\"\"\n",
    "    Custom assertion to check if actual value is within a given threshold of the expected value.\n",
    "    \n",
    "    :param actual: The computed or observed value.\n",
    "    :param expected: The expected reference value.\n",
    "    :param threshold: The allowed deviation from the expected value.\n",
    "    :param message: Optional message for assertion failure.\n",
    "    \"\"\"\n",
    "    lower_bound = expected - threshold\n",
    "    upper_bound = expected + threshold\n",
    "\n",
    "    assert lower_bound <= actual <= upper_bound, (\n",
    "        f\"{message}: Expected {expected} ± {threshold}, but got {actual}\"\n",
    "    )\n",
    "\n",
    "def get_temperature():\n",
    "    return 22.5  # Simulated temperature reading\n",
    "\n",
    "def test_temperature():\n",
    "    actual_temp = get_temperature()\n",
    "    assert_within_threshold(actual_temp, expected=23, threshold=1, message=\"Temperature out of safe range\")\n",
    "\n",
    "test_temperature()"
   ]
  },
  {
   "cell_type": "code",
   "execution_count": 15,
   "metadata": {},
   "outputs": [],
   "source": [
    "def test_with_pytest():\n",
    "    assert_within_threshold(99, expected=100, threshold=2, message=\"Test Value Out of Range\")\n",
    "\n",
    "test_with_pytest()"
   ]
  },
  {
   "cell_type": "markdown",
   "metadata": {},
   "source": [
    "## Create helper functions for generating test data"
   ]
  },
  {
   "cell_type": "code",
   "execution_count": 17,
   "metadata": {},
   "outputs": [
    {
     "name": "stdout",
     "output_type": "stream",
     "text": [
      "{'id': 2607, 'name': 'DvVarn', 'age': 45}\n"
     ]
    }
   ],
   "source": [
    "def generate_test_user(user_id=None, name_length=6, age_range=(18, 60)):\n",
    "    \"\"\"\n",
    "    Generates a test user with random values.\n",
    "    \n",
    "    :param user_id: Optional ID (if None, generate randomly)\n",
    "    :param name_length: Length of the random name\n",
    "    :param age_range: Tuple with (min_age, max_age)\n",
    "    :return: Dictionary representing a user\n",
    "    \"\"\"\n",
    "    user_id = user_id or random.randint(1000, 9999)\n",
    "    name = ''.join(random.choices(string.ascii_letters, k=name_length))\n",
    "    age = random.randint(*age_range)\n",
    "\n",
    "    return {\"id\": user_id, \"name\": name, \"age\": age}\n",
    "\n",
    "# Example Usage\n",
    "test_user = generate_test_user()\n",
    "print(test_user)"
   ]
  },
  {
   "cell_type": "code",
   "execution_count": 18,
   "metadata": {},
   "outputs": [
    {
     "name": "stdout",
     "output_type": "stream",
     "text": [
      "{'transaction_id': 61500, 'user_id': 7203, 'amount': 141.24, 'timestamp': '2025-02-04T19:38:54.272622'}\n"
     ]
    }
   ],
   "source": [
    "def generate_transaction(user_id=None, min_amount=5, max_amount=500):\n",
    "    \"\"\"\n",
    "    Generates a test transaction with a random amount and timestamp.\n",
    "    \n",
    "    :param user_id: User ID for the transaction (default: random)\n",
    "    :param min_amount: Minimum transaction amount\n",
    "    :param max_amount: Maximum transaction amount\n",
    "    :return: Dictionary representing a transaction\n",
    "    \"\"\"\n",
    "    transaction_id = random.randint(10000, 99999)\n",
    "    user_id = user_id or random.randint(1000, 9999)\n",
    "    amount = round(random.uniform(min_amount, max_amount), 2)\n",
    "    timestamp = datetime.datetime.now().isoformat()\n",
    "\n",
    "    return {\n",
    "        \"transaction_id\": transaction_id,\n",
    "        \"user_id\": user_id,\n",
    "        \"amount\": amount,\n",
    "        \"timestamp\": timestamp\n",
    "    }\n",
    "\n",
    "# Example Usage\n",
    "test_transaction = generate_transaction()\n",
    "print(test_transaction)"
   ]
  },
  {
   "cell_type": "code",
   "execution_count": 19,
   "metadata": {},
   "outputs": [],
   "source": [
    "@pytest.mark.parametrize(\"user\", [generate_test_user() for _ in range(5)])\n",
    "def test_generated_user(user):\n",
    "    assert 18 <= user[\"age\"] <= 60\n",
    "    assert isinstance(user[\"name\"], str)"
   ]
  },
  {
   "cell_type": "markdown",
   "metadata": {},
   "source": [
    "## Handling Expected Errors as Exceptions vs. Failures in Testing"
   ]
  },
  {
   "cell_type": "code",
   "execution_count": 23,
   "metadata": {},
   "outputs": [],
   "source": [
    "# Using Assertions to Catch Expected Exceptions\n",
    "def divide(a, b):\n",
    "    \"\"\"Divides a by b, raises ZeroDivisionError if b is zero.\"\"\"\n",
    "    if b == 0:\n",
    "        raise ZeroDivisionError(\"Cannot divide by zero\")\n",
    "    return a / b\n",
    "\n",
    "def test_divide_by_zero():\n",
    "    with pytest.raises(ZeroDivisionError, match=\"Cannot divide by zero\"):\n",
    "        divide(10, 0)  # This should raise ZeroDivisionError\n",
    "\n",
    "test_divide_by_zero()"
   ]
  },
  {
   "cell_type": "code",
   "execution_count": 25,
   "metadata": {},
   "outputs": [],
   "source": [
    "def safe_divide(a, b):\n",
    "    \"\"\"Returns the division result or None if division by zero occurs.\"\"\"\n",
    "    try:\n",
    "        return a / b\n",
    "    except ZeroDivisionError:\n",
    "        return None\n",
    "\n",
    "def test_safe_divide():\n",
    "    assert safe_divide(10, 0) is None  # Expected: No crash, return None\n",
    "    assert safe_divide(10, 2) == 5     # Expected: Normal division works\n",
    "\n",
    "test_safe_divide()"
   ]
  },
  {
   "cell_type": "code",
   "execution_count": 26,
   "metadata": {},
   "outputs": [
    {
     "ename": "AssertionError",
     "evalue": "",
     "output_type": "error",
     "traceback": [
      "\u001b[0;31m---------------------------------------------------------------------------\u001b[0m",
      "\u001b[0;31mAssertionError\u001b[0m                            Traceback (most recent call last)",
      "\u001b[0;32m<ipython-input-26-da0c384d5c90>\u001b[0m in \u001b[0;36m<module>\u001b[0;34m\u001b[0m\n\u001b[1;32m      6\u001b[0m     \u001b[0;32massert\u001b[0m \u001b[0mbroken_multiply\u001b[0m\u001b[0;34m(\u001b[0m\u001b[0;36m3\u001b[0m\u001b[0;34m,\u001b[0m \u001b[0;36m4\u001b[0m\u001b[0;34m)\u001b[0m \u001b[0;34m==\u001b[0m \u001b[0;36m12\u001b[0m  \u001b[0;31m# This will FAIL\u001b[0m\u001b[0;34m\u001b[0m\u001b[0;34m\u001b[0m\u001b[0m\n\u001b[1;32m      7\u001b[0m \u001b[0;34m\u001b[0m\u001b[0m\n\u001b[0;32m----> 8\u001b[0;31m \u001b[0mtest_broken_multiply\u001b[0m\u001b[0;34m(\u001b[0m\u001b[0;34m)\u001b[0m\u001b[0;34m\u001b[0m\u001b[0;34m\u001b[0m\u001b[0m\n\u001b[0m",
      "\u001b[0;32m<ipython-input-26-da0c384d5c90>\u001b[0m in \u001b[0;36mtest_broken_multiply\u001b[0;34m()\u001b[0m\n\u001b[1;32m      4\u001b[0m \u001b[0;34m\u001b[0m\u001b[0m\n\u001b[1;32m      5\u001b[0m \u001b[0;32mdef\u001b[0m \u001b[0mtest_broken_multiply\u001b[0m\u001b[0;34m(\u001b[0m\u001b[0;34m)\u001b[0m\u001b[0;34m:\u001b[0m\u001b[0;34m\u001b[0m\u001b[0;34m\u001b[0m\u001b[0m\n\u001b[0;32m----> 6\u001b[0;31m     \u001b[0;32massert\u001b[0m \u001b[0mbroken_multiply\u001b[0m\u001b[0;34m(\u001b[0m\u001b[0;36m3\u001b[0m\u001b[0;34m,\u001b[0m \u001b[0;36m4\u001b[0m\u001b[0;34m)\u001b[0m \u001b[0;34m==\u001b[0m \u001b[0;36m12\u001b[0m  \u001b[0;31m# This will FAIL\u001b[0m\u001b[0;34m\u001b[0m\u001b[0;34m\u001b[0m\u001b[0m\n\u001b[0m\u001b[1;32m      7\u001b[0m \u001b[0;34m\u001b[0m\u001b[0m\n\u001b[1;32m      8\u001b[0m \u001b[0mtest_broken_multiply\u001b[0m\u001b[0;34m(\u001b[0m\u001b[0;34m)\u001b[0m\u001b[0;34m\u001b[0m\u001b[0;34m\u001b[0m\u001b[0m\n",
      "\u001b[0;31mAssertionError\u001b[0m: "
     ]
    }
   ],
   "source": [
    "# Tesing Unexpected Failures\n",
    "def broken_multiply(a, b):\n",
    "    return a + b  # Incorrect implementation!\n",
    "\n",
    "def test_broken_multiply():\n",
    "    assert broken_multiply(3, 4) == 12  # This will FAIL\n",
    "\n",
    "test_broken_multiply()"
   ]
  }
 ],
 "metadata": {
  "kernelspec": {
   "display_name": "Python 3",
   "language": "python",
   "name": "python3"
  },
  "language_info": {
   "codemirror_mode": {
    "name": "ipython",
    "version": 3
   },
   "file_extension": ".py",
   "mimetype": "text/x-python",
   "name": "python",
   "nbconvert_exporter": "python",
   "pygments_lexer": "ipython3",
   "version": "3.7.6"
  }
 },
 "nbformat": 4,
 "nbformat_minor": 4
}
